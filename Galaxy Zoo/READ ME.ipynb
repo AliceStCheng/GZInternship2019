{
 "cells": [
  {
   "cell_type": "markdown",
   "metadata": {},
   "source": [
    "<h1>This documents the processes of training a NN for GZ_CANDELS.</h1>\n",
    "\n",
    "<h2>Images to CSV:</h2>\n",
    "\n",
    "* The first step was to download all image files via <samp>GZ_Cd</samp> (I got mine through Brooke), make a back up copy of it.\n",
    "* Then obtain the <code>.fits.gz</code> (it should be a zip) file for all the images in a table format. Save it in a sensible place.\n",
    "* Then using Topcat, click <code>open > filestore browser > [your sensible file location] in this case it's Desktop > Alice</code> on the Mac) \n",
    "* Make sure that you haven't corrupted the file beforehand or it will not open.\n",
    "* Click on on of the table icons (I think it's the 9 grid table icon) to see a tick list of all table names. Click on untick all icon, and retick the <samp>Hubble_IMG_ID</samp> (something like that?). Double click to 'rename', but actually copy the names for later use. Do the same for <samp>\"WFC3_F160w_magnitude\"</samp>, but don't tick the box. This should just give you a column of names for the images.\n",
    "* Click on the weird Venn diagram (which looks more like a pie or a circle inside a circle than a venn diagram) to configure subsets.\n",
    "* Create a new subset using the green plus sign. Give it a name, and give it a condition for one of the catagories using the conditions listed in the publication (<i>Galaxy Zoo CANSELS data release, Simmons et al., 2017</i>)\n",
    "* Close that, then click on the grid with lightning icon. Find 'Display Image' and tick that. This makes sure that your image will show up as you click on an entry in the column.\n",
    "* Depending on the condition, it should give you a list of stars galaxies or unclassifiable images. Have a quick flick through to make sure that they're mostly right (note, when I say quick, it will still take a long time because there are lots of images).\n",
    "* When you're done, and you're ehappy with the images around, save the list of images that met the criteria you set before as a <code>.csv</code> file.\n",
    "\n",
    "\n",
    "<h2>CSV to separate folders:</h2>\n",
    "\n",
    "* Create some new folders, each with the names of the category of images the folder will contain.\n",
    "* Open the terminal.\n",
    "* You'll need Awk for the following:\n",
    "* Type the command (in a single line):\n",
    "\n",
    "<figure>\n",
    "  <figcaption></figcaption>\n",
    "  <pre>\n",
    "    <code>\n",
    "      \"awk -F \",\" '{print \"mv \"$1\".jpg\" \"/Users/lancastro/Desktop/Alice/bright_stars\"}<br>\n",
    "      '/Users/lancastro/Desktop/Alice/projects/bright_star_list.csv | head\"<br>\n",
    "    </code>\n",
    "  </pre>\n",
    "</figure>\n",
    "\n",
    "\n",
    "\n",
    "- Where <code>$1</code> is <samp>'substitute name from your .csv column'</samp>, the <code>../bright stars</code> is your path to the folder you want to move the images to, and <code>../../bright_star_list.csv</code> is the location of your <code>.csv</code> column. <code>| head</code> makes sure that it prints the first 5 lines.\n",
    "- Make sure you modify the parts in '{ }'. This is because Awk basically prints commands in the command line repeatedly via your list of csv files. It uses the same command, but substitutes the file names. That's why the <code> | head</code> is needed, to check if the command is correct (currently it's not!! This is because I copied an older, less correct one in terms of the stuff inside <code>{}</code>, since the correct one, was unfortunately, not saved.) \n",
    "- Save the correct command here! (So you don't make the same mistake again)\n",
    "- With the correct command, run it to move your files for one category.\n",
    "- Edit the path and the <code>.csv</code> file to the original command to move the other category to another file.\n",
    "- Check through your files to see if everything is done properly. If not, make a copy of the backup copy, and repeat this section, checking for errors.\n",
    "\n",
    "Training Neural Network:\n",
    "\n",
    "- Open Jupter notebook in the command line via: <code>jupyter notebook</code>\n",
    "- Open the tutorial: https://pythonprogramming.net/loading-custom-data-deep-learning-python-tensorflow-keras/ or for the video verions: https://www.youtube.com/watch?v=j-3vuBynnOE\n",
    "- Go to the relevant folder (in this case it's <samp>Users > lancastro > Galaxy Zoo, but you'll most likely be in lancastro anyway.</samp>\n",
    "- If you don't need to completely modify the program, then click on 'image_classifyer.ipynb', and change the path in 'DATADIR' and 'CATERGORIES', where CATEGORIES are the names folders of different catagories in DATADIR. Make sure you don't spell 'categories' incorrectly, it's 'catEgories', not 'catAgories'.\n",
    "- Run all cells to prevent any 'undefined variables' errors.\n",
    "- Follow the tutorial.\n",
    "- WEEK 4: I don't like that tutorial, nor this one (even though it's cited a lot): https://blog.keras.io/building-powerful-image-classification-models-using-very-little-data.html\n",
    "- Trying transfer learning using Google's tutorial code instead (it has already been written)\n",
    "\n",
    "If you're reading this doc, please note that the tutorial I didn't like ended up being the tutorial I used because it didn't require labels, it just required moving relevant folders. So I used that tutorial for the training part, but not for the predictions."
   ]
  },
  {
   "cell_type": "code",
   "execution_count": null,
   "metadata": {},
   "outputs": [],
   "source": []
  }
 ],
 "metadata": {
  "kernelspec": {
   "display_name": "Python 3",
   "language": "python",
   "name": "python3"
  },
  "language_info": {
   "codemirror_mode": {
    "name": "ipython",
    "version": 3
   },
   "file_extension": ".py",
   "mimetype": "text/x-python",
   "name": "python",
   "nbconvert_exporter": "python",
   "pygments_lexer": "ipython3",
   "version": "3.6.7"
  }
 },
 "nbformat": 4,
 "nbformat_minor": 2
}
