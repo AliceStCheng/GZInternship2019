{
 "cells": [
  {
   "cell_type": "code",
   "execution_count": 4,
   "metadata": {
    "colab": {
     "base_uri": "https://localhost:8080/",
     "height": 34
    },
    "colab_type": "code",
    "executionInfo": {
     "elapsed": 560,
     "status": "ok",
     "timestamp": 1565867107643,
     "user": {
      "displayName": "Alice Cheng",
      "photoUrl": "https://lh3.googleusercontent.com/-sTHw_Kd8zkQ/AAAAAAAAAAI/AAAAAAAANd8/ME6yy6h3DLM/s64/photo.jpg",
      "userId": "05280212990421177564"
     },
     "user_tz": -60
    },
    "id": "1kXTNRQa61OD",
    "outputId": "659c675f-c721-49b0-b2f4-71607517935d"
   },
   "outputs": [
    {
     "name": "stdout",
     "output_type": "stream",
     "text": [
      "1.14.0\n"
     ]
    }
   ],
   "source": [
    "from __future__ import absolute_import, division, print_function, unicode_literals\n",
    "\n",
    "# Getting Tensorflow and Keras\n",
    "import tensorflow as tf\n",
    "from tensorflow import keras\n",
    "\n",
    "# Getting helper libraries\n",
    "import numpy as np\n",
    "import matplotlib.pyplot as plt\n",
    "\n",
    "print(tf.__version__)"
   ]
  },
  {
   "cell_type": "code",
   "execution_count": 7,
   "metadata": {
    "colab": {
     "base_uri": "https://localhost:8080/",
     "height": 173
    },
    "colab_type": "code",
    "executionInfo": {
     "elapsed": 1404,
     "status": "ok",
     "timestamp": 1565867583566,
     "user": {
      "displayName": "Alice Cheng",
      "photoUrl": "https://lh3.googleusercontent.com/-sTHw_Kd8zkQ/AAAAAAAAAAI/AAAAAAAANd8/ME6yy6h3DLM/s64/photo.jpg",
      "userId": "05280212990421177564"
     },
     "user_tz": -60
    },
    "id": "-DhQ-tTZ-Ng_",
    "outputId": "589962b8-6ffe-48b2-f689-d42cd1b83fb1"
   },
   "outputs": [
    {
     "name": "stdout",
     "output_type": "stream",
     "text": [
      "Downloading data from https://storage.googleapis.com/tensorflow/tf-keras-datasets/train-labels-idx1-ubyte.gz\n",
      "32768/29515 [=================================] - 0s 0us/step\n",
      "Downloading data from https://storage.googleapis.com/tensorflow/tf-keras-datasets/train-images-idx3-ubyte.gz\n",
      "26427392/26421880 [==============================] - 0s 0us/step\n",
      "Downloading data from https://storage.googleapis.com/tensorflow/tf-keras-datasets/t10k-labels-idx1-ubyte.gz\n",
      "8192/5148 [===============================================] - 0s 0us/step\n",
      "Downloading data from https://storage.googleapis.com/tensorflow/tf-keras-datasets/t10k-images-idx3-ubyte.gz\n",
      "4423680/4422102 [==============================] - 0s 0us/step\n"
     ]
    }
   ],
   "source": [
    "fashion_mnist = keras.datasets.fashion_mnist\n",
    "\n",
    "(train_images, train_labels), (test_images, test_labels) = fashion_mnist.load_data()"
   ]
  },
  {
   "cell_type": "code",
   "execution_count": 0,
   "metadata": {
    "colab": {},
    "colab_type": "code",
    "id": "LTUhWMM4-82d"
   },
   "outputs": [],
   "source": [
    "class_names = ['artifact', 'extended object']"
   ]
  },
  {
   "cell_type": "code",
   "execution_count": 11,
   "metadata": {
    "colab": {
     "base_uri": "https://localhost:8080/",
     "height": 34
    },
    "colab_type": "code",
    "executionInfo": {
     "elapsed": 588,
     "status": "ok",
     "timestamp": 1565867684586,
     "user": {
      "displayName": "Alice Cheng",
      "photoUrl": "https://lh3.googleusercontent.com/-sTHw_Kd8zkQ/AAAAAAAAAAI/AAAAAAAANd8/ME6yy6h3DLM/s64/photo.jpg",
      "userId": "05280212990421177564"
     },
     "user_tz": -60
    },
    "id": "Q694wTRJ_EkB",
    "outputId": "a2bf6bf2-8e6b-4627-ace1-a3538587d72d"
   },
   "outputs": [
    {
     "data": {
      "text/plain": [
       "(60000, 28, 28)"
      ]
     },
     "execution_count": 11,
     "metadata": {
      "tags": []
     },
     "output_type": "execute_result"
    }
   ],
   "source": [
    "train_images.shape"
   ]
  },
  {
   "cell_type": "code",
   "execution_count": 12,
   "metadata": {
    "colab": {
     "base_uri": "https://localhost:8080/",
     "height": 34
    },
    "colab_type": "code",
    "executionInfo": {
     "elapsed": 440,
     "status": "ok",
     "timestamp": 1565867714713,
     "user": {
      "displayName": "Alice Cheng",
      "photoUrl": "https://lh3.googleusercontent.com/-sTHw_Kd8zkQ/AAAAAAAAAAI/AAAAAAAANd8/ME6yy6h3DLM/s64/photo.jpg",
      "userId": "05280212990421177564"
     },
     "user_tz": -60
    },
    "id": "S1vVn8CN_LBo",
    "outputId": "b3994287-13b2-4885-a62d-aadffeaf91b5"
   },
   "outputs": [
    {
     "data": {
      "text/plain": [
       "60000"
      ]
     },
     "execution_count": 12,
     "metadata": {
      "tags": []
     },
     "output_type": "execute_result"
    }
   ],
   "source": [
    "len(train_labels)"
   ]
  },
  {
   "cell_type": "code",
   "execution_count": 13,
   "metadata": {
    "colab": {
     "base_uri": "https://localhost:8080/",
     "height": 34
    },
    "colab_type": "code",
    "executionInfo": {
     "elapsed": 598,
     "status": "ok",
     "timestamp": 1565867728226,
     "user": {
      "displayName": "Alice Cheng",
      "photoUrl": "https://lh3.googleusercontent.com/-sTHw_Kd8zkQ/AAAAAAAAAAI/AAAAAAAANd8/ME6yy6h3DLM/s64/photo.jpg",
      "userId": "05280212990421177564"
     },
     "user_tz": -60
    },
    "id": "f6TThuU8_Saf",
    "outputId": "98b2451c-54ea-444e-9344-f1f39e043d12"
   },
   "outputs": [
    {
     "data": {
      "text/plain": [
       "array([9, 0, 0, ..., 3, 0, 5], dtype=uint8)"
      ]
     },
     "execution_count": 13,
     "metadata": {
      "tags": []
     },
     "output_type": "execute_result"
    }
   ],
   "source": [
    "train_labels"
   ]
  },
  {
   "cell_type": "code",
   "execution_count": 14,
   "metadata": {
    "colab": {
     "base_uri": "https://localhost:8080/",
     "height": 34
    },
    "colab_type": "code",
    "executionInfo": {
     "elapsed": 544,
     "status": "ok",
     "timestamp": 1565867789962,
     "user": {
      "displayName": "Alice Cheng",
      "photoUrl": "https://lh3.googleusercontent.com/-sTHw_Kd8zkQ/AAAAAAAAAAI/AAAAAAAANd8/ME6yy6h3DLM/s64/photo.jpg",
      "userId": "05280212990421177564"
     },
     "user_tz": -60
    },
    "id": "2rd4P-5F_VrP",
    "outputId": "2dd432e6-7155-428d-b634-b743b783329d"
   },
   "outputs": [
    {
     "data": {
      "text/plain": [
       "(10000, 28, 28)"
      ]
     },
     "execution_count": 14,
     "metadata": {
      "tags": []
     },
     "output_type": "execute_result"
    }
   ],
   "source": [
    "test_images.shape"
   ]
  },
  {
   "cell_type": "code",
   "execution_count": 15,
   "metadata": {
    "colab": {
     "base_uri": "https://localhost:8080/",
     "height": 34
    },
    "colab_type": "code",
    "executionInfo": {
     "elapsed": 954,
     "status": "ok",
     "timestamp": 1565867817741,
     "user": {
      "displayName": "Alice Cheng",
      "photoUrl": "https://lh3.googleusercontent.com/-sTHw_Kd8zkQ/AAAAAAAAAAI/AAAAAAAANd8/ME6yy6h3DLM/s64/photo.jpg",
      "userId": "05280212990421177564"
     },
     "user_tz": -60
    },
    "id": "YmUF9KPX_kwt",
    "outputId": "9b2049a4-3fa3-4fc5-d977-21253398fb0e"
   },
   "outputs": [
    {
     "data": {
      "text/plain": [
       "10000"
      ]
     },
     "execution_count": 15,
     "metadata": {
      "tags": []
     },
     "output_type": "execute_result"
    }
   ],
   "source": [
    "len(test_labels)"
   ]
  },
  {
   "cell_type": "code",
   "execution_count": 19,
   "metadata": {
    "colab": {
     "base_uri": "https://localhost:8080/",
     "height": 269
    },
    "colab_type": "code",
    "executionInfo": {
     "elapsed": 568,
     "status": "ok",
     "timestamp": 1565868031325,
     "user": {
      "displayName": "Alice Cheng",
      "photoUrl": "https://lh3.googleusercontent.com/-sTHw_Kd8zkQ/AAAAAAAAAAI/AAAAAAAANd8/ME6yy6h3DLM/s64/photo.jpg",
      "userId": "05280212990421177564"
     },
     "user_tz": -60
    },
    "id": "4Et9R4Cg_rcd",
    "outputId": "27b03434-6226-4384-b273-9eb37c104a8f"
   },
   "outputs": [
    {
     "data": {
      "image/png": "[encoded data removed]",
      "text/plain": [
       "<Figure size 432x288 with 2 Axes>"
      ]
     },
     "metadata": {
      "tags": []
     },
     "output_type": "display_data"
    }
   ],
   "source": [
    "plt.figure()\n",
    "plt.imshow(train_images[0])\n",
    "plt.colorbar()\n",
    "plt.grid(False)\n",
    "plt.show()"
   ]
  },
  {
   "cell_type": "code",
   "execution_count": 0,
   "metadata": {
    "colab": {},
    "colab_type": "code",
    "id": "AM6t7lAnAfri"
   },
   "outputs": [],
   "source": [
    "train_images = train_images / 255.0\n",
    "\n",
    "test_images = test_images / 255.0"
   ]
  },
  {
   "cell_type": "code",
   "execution_count": 31,
   "metadata": {
    "colab": {
     "base_uri": "https://localhost:8080/",
     "height": 592
    },
    "colab_type": "code",
    "executionInfo": {
     "elapsed": 1849,
     "status": "ok",
     "timestamp": 1565870613840,
     "user": {
      "displayName": "Alice Cheng",
      "photoUrl": "https://lh3.googleusercontent.com/-sTHw_Kd8zkQ/AAAAAAAAAAI/AAAAAAAANd8/ME6yy6h3DLM/s64/photo.jpg",
      "userId": "05280212990421177564"
     },
     "user_tz": -60
    },
    "id": "r-QP-hEiGVIH",
    "outputId": "2c560ee8-5231-4afe-84ff-6abe36c5318b"
   },
   "outputs": [
    {
     "data": {
      "image/png": "[encoded data removed]",
      "text/plain": [
       "<Figure size 720x720 with 25 Axes>"
      ]
     },
     "metadata": {
      "tags": []
     },
     "output_type": "display_data"
    }
   ],
   "source": [
    "plt.figure(figsize=(10,10))\n",
    "for i in range(25):\n",
    "  plt.subplot(5,5,i+1)\n",
    "  plt.xticks([])\n",
    "  plt.yticks([])\n",
    "  plt.grid(False)\n",
    "  plt.imshow(train_images[i], cmap=plt.cm.binary)\n",
    "  plt.xlabel(class_names[train_labels[i]])\n",
    "plt.show()"
   ]
  },
  {
   "cell_type": "code",
   "execution_count": 0,
   "metadata": {
    "colab": {},
    "colab_type": "code",
    "id": "k_wTkUyWIwur"
   },
   "outputs": [],
   "source": [
    "model = keras.Sequential([\n",
    "    keras.layers.Flatten(input_shape=(28, 28)),\n",
    "    keras.layers.Dense(128, activation=tf.nn.relu),\n",
    "    keras.layers.Dense(10, activation=tf.nn.softmax)\n",
    "])"
   ]
  },
  {
   "cell_type": "code",
   "execution_count": 0,
   "metadata": {
    "colab": {},
    "colab_type": "code",
    "id": "lPE1dMfmNjZc"
   },
   "outputs": [],
   "source": [
    "model.compile(optimizer='adam',\n",
    "             loss='sparse_categorical_crossentropy',\n",
    "             metrics=['accuracy'])"
   ]
  },
  {
   "cell_type": "code",
   "execution_count": 43,
   "metadata": {
    "colab": {
     "base_uri": "https://localhost:8080/",
     "height": 204
    },
    "colab_type": "code",
    "executionInfo": {
     "elapsed": 23939,
     "status": "ok",
     "timestamp": 1565872202687,
     "user": {
      "displayName": "Alice Cheng",
      "photoUrl": "https://lh3.googleusercontent.com/-sTHw_Kd8zkQ/AAAAAAAAAAI/AAAAAAAANd8/ME6yy6h3DLM/s64/photo.jpg",
      "userId": "05280212990421177564"
     },
     "user_tz": -60
    },
    "id": "73yuYU1SP3V4",
    "outputId": "3c8dc085-c5ee-4b79-a823-9a18ccf25376"
   },
   "outputs": [
    {
     "name": "stdout",
     "output_type": "stream",
     "text": [
      "Epoch 1/5\n",
      "60000/60000 [==============================] - 5s 84us/sample - loss: 1.1013 - acc: 0.6482\n",
      "Epoch 2/5\n",
      "60000/60000 [==============================] - 4s 74us/sample - loss: 0.6434 - acc: 0.7682\n",
      "Epoch 3/5\n",
      "60000/60000 [==============================] - 4s 72us/sample - loss: 0.5694 - acc: 0.7948\n",
      "Epoch 4/5\n",
      "60000/60000 [==============================] - 4s 74us/sample - loss: 0.5281 - acc: 0.8130\n",
      "Epoch 5/5\n",
      "60000/60000 [==============================] - 5s 76us/sample - loss: 0.5008 - acc: 0.8242\n"
     ]
    },
    {
     "data": {
      "text/plain": [
       "<tensorflow.python.keras.callbacks.History at 0x7f834e878c18>"
      ]
     },
     "execution_count": 43,
     "metadata": {
      "tags": []
     },
     "output_type": "execute_result"
    }
   ],
   "source": [
    "model.fit(train_images, train_labels, epochs=5)"
   ]
  },
  {
   "cell_type": "code",
   "execution_count": 44,
   "metadata": {
    "colab": {
     "base_uri": "https://localhost:8080/",
     "height": 51
    },
    "colab_type": "code",
    "executionInfo": {
     "elapsed": 1407,
     "status": "ok",
     "timestamp": 1565875948807,
     "user": {
      "displayName": "Alice Cheng",
      "photoUrl": "https://lh3.googleusercontent.com/-sTHw_Kd8zkQ/AAAAAAAAAAI/AAAAAAAANd8/ME6yy6h3DLM/s64/photo.jpg",
      "userId": "05280212990421177564"
     },
     "user_tz": -60
    },
    "id": "zWlV05_XQUX-",
    "outputId": "51f3c76b-0e37-4d40-99b8-36bf8abce71d"
   },
   "outputs": [
    {
     "name": "stdout",
     "output_type": "stream",
     "text": [
      "10000/10000 [==============================] - 1s 56us/sample - loss: 0.5143 - acc: 0.8137\n",
      "Test accuracy: 0.8137\n"
     ]
    }
   ],
   "source": [
    "test_loss, test_acc = model.evaluate(test_images, test_labels)\n",
    "\n",
    "print('Test accuracy:', test_acc)"
   ]
  },
  {
   "cell_type": "code",
   "execution_count": 0,
   "metadata": {
    "colab": {},
    "colab_type": "code",
    "id": "zVgnCHX6QPPv"
   },
   "outputs": [],
   "source": [
    "predictions = model.predict(test_images)"
   ]
  },
  {
   "cell_type": "code",
   "execution_count": 47,
   "metadata": {
    "colab": {
     "base_uri": "https://localhost:8080/",
     "height": 68
    },
    "colab_type": "code",
    "executionInfo": {
     "elapsed": 445,
     "status": "ok",
     "timestamp": 1565876136005,
     "user": {
      "displayName": "Alice Cheng",
      "photoUrl": "https://lh3.googleusercontent.com/-sTHw_Kd8zkQ/AAAAAAAAAAI/AAAAAAAANd8/ME6yy6h3DLM/s64/photo.jpg",
      "userId": "05280212990421177564"
     },
     "user_tz": -60
    },
    "id": "qp4wQsvTfULv",
    "outputId": "aa2b7a7f-3c96-4457-811c-846983c6e1af"
   },
   "outputs": [
    {
     "data": {
      "text/plain": [
       "array([1.7277343e-06, 7.8949924e-08, 8.0836508e-06, 8.7858734e-06,\n",
       "       2.3066488e-05, 1.2037676e-01, 3.1571297e-05, 3.3945584e-01,\n",
       "       5.9136944e-03, 5.3418034e-01], dtype=float32)"
      ]
     },
     "execution_count": 47,
     "metadata": {
      "tags": []
     },
     "output_type": "execute_result"
    }
   ],
   "source": [
    "predictions[0]"
   ]
  },
  {
   "cell_type": "code",
   "execution_count": 48,
   "metadata": {
    "colab": {
     "base_uri": "https://localhost:8080/",
     "height": 34
    },
    "colab_type": "code",
    "executionInfo": {
     "elapsed": 495,
     "status": "ok",
     "timestamp": 1565876153064,
     "user": {
      "displayName": "Alice Cheng",
      "photoUrl": "https://lh3.googleusercontent.com/-sTHw_Kd8zkQ/AAAAAAAAAAI/AAAAAAAANd8/ME6yy6h3DLM/s64/photo.jpg",
      "userId": "05280212990421177564"
     },
     "user_tz": -60
    },
    "id": "-KbvGF28faY_",
    "outputId": "acfd164f-42fd-400d-8c54-8bf73585a13b"
   },
   "outputs": [
    {
     "data": {
      "text/plain": [
       "9"
      ]
     },
     "execution_count": 48,
     "metadata": {
      "tags": []
     },
     "output_type": "execute_result"
    }
   ],
   "source": [
    "np.argmax(predictions[0])"
   ]
  },
  {
   "cell_type": "code",
   "execution_count": 49,
   "metadata": {
    "colab": {
     "base_uri": "https://localhost:8080/",
     "height": 34
    },
    "colab_type": "code",
    "executionInfo": {
     "elapsed": 421,
     "status": "ok",
     "timestamp": 1565876188412,
     "user": {
      "displayName": "Alice Cheng",
      "photoUrl": "https://lh3.googleusercontent.com/-sTHw_Kd8zkQ/AAAAAAAAAAI/AAAAAAAANd8/ME6yy6h3DLM/s64/photo.jpg",
      "userId": "05280212990421177564"
     },
     "user_tz": -60
    },
    "id": "vxnxLQ7Vfei3",
    "outputId": "56962eb0-d738-4538-fa8d-ca23c0a47224"
   },
   "outputs": [
    {
     "data": {
      "text/plain": [
       "9"
      ]
     },
     "execution_count": 49,
     "metadata": {
      "tags": []
     },
     "output_type": "execute_result"
    }
   ],
   "source": [
    "test_labels[0]"
   ]
  },
  {
   "cell_type": "code",
   "execution_count": 0,
   "metadata": {
    "colab": {},
    "colab_type": "code",
    "id": "YoRKzuKsfnMG"
   },
   "outputs": [],
   "source": [
    "def plot_image(i, predictions_array, true_label, img):\n",
    "  predictions_array, true_label, img = predictions_array[i], true_label[i], img[i]\n",
    "  plt.grid(False)\n",
    "  plt.xticks([])\n",
    "  plt.yticks([])\n",
    "  \n",
    "  plt.imshow(img, cmap=plt.cm.binary)\n",
    "  \n",
    "  predicted_label = np.argmax(predictions_array)\n",
    "  if predicted_label == true_label:\n",
    "    color = 'blue'\n",
    "  else: \n",
    "    color = 'red'\n",
    "    \n",
    "  plt.xlabel(\"{} {:2.0f}% ({})\".format(class_names[predicted_label],\n",
    "                                                  100*np.max(predictions_array),\n",
    "                                                  class_names[true_label]),\n",
    "                                                  color=color)\n",
    "  \n",
    "def plot_value_array(i, predictions_array, true_label):\n",
    "  predictions_array, true_label = predictions_array[i], true_label[i]\n",
    "  plt.grid(False)\n",
    "  plt.xticks([])\n",
    "  plt.yticks([])\n",
    "  thisplot = plt.bar(range(10), predictions_array, color=\"#777777\")\n",
    "  plt.ylim([0, 1])\n",
    "  predicted_label = np.argmax(predictions_array)\n",
    "  \n",
    "  thisplot[predicted_label].set_color('red')\n",
    "  thisplot[true_label].set_color('blue')\n",
    "\n",
    "    \n",
    "    \n",
    "    "
   ]
  },
  {
   "cell_type": "code",
   "execution_count": 64,
   "metadata": {
    "colab": {
     "base_uri": "https://localhost:8080/",
     "height": 206
    },
    "colab_type": "code",
    "executionInfo": {
     "elapsed": 577,
     "status": "ok",
     "timestamp": 1565878805576,
     "user": {
      "displayName": "Alice Cheng",
      "photoUrl": "https://lh3.googleusercontent.com/-sTHw_Kd8zkQ/AAAAAAAAAAI/AAAAAAAANd8/ME6yy6h3DLM/s64/photo.jpg",
      "userId": "05280212990421177564"
     },
     "user_tz": -60
    },
    "id": "XXPuo0R-m1Sl",
    "outputId": "cbd5fc77-3989-4e32-920b-30c97bd56acf"
   },
   "outputs": [
    {
     "data": {
      "image/png": "[encoded data removed]",
      "text/plain": [
       "<Figure size 432x216 with 2 Axes>"
      ]
     },
     "metadata": {
      "tags": []
     },
     "output_type": "display_data"
    }
   ],
   "source": [
    "i = 0 \n",
    "plt.figure(figsize=(6,3))\n",
    "plt.subplot(1,2,1)\n",
    "plot_image(i, predictions, test_labels, test_images)\n",
    "plt.subplot(1,2,2)\n",
    "plot_value_array(i, predictions, test_labels)\n",
    "plt.show()"
   ]
  },
  {
   "cell_type": "code",
   "execution_count": 66,
   "metadata": {
    "colab": {
     "base_uri": "https://localhost:8080/",
     "height": 206
    },
    "colab_type": "code",
    "executionInfo": {
     "elapsed": 413,
     "status": "ok",
     "timestamp": 1565878948023,
     "user": {
      "displayName": "Alice Cheng",
      "photoUrl": "https://lh3.googleusercontent.com/-sTHw_Kd8zkQ/AAAAAAAAAAI/AAAAAAAANd8/ME6yy6h3DLM/s64/photo.jpg",
      "userId": "05280212990421177564"
     },
     "user_tz": -60
    },
    "id": "zgXIKP9fpmG_",
    "outputId": "033ffa04-27ca-4ad3-bb3d-d5de8204f0db"
   },
   "outputs": [
    {
     "data": {
      "image/png": "[encoded data removed]",
      "text/plain": [
       "<Figure size 432x216 with 2 Axes>"
      ]
     },
     "metadata": {
      "tags": []
     },
     "output_type": "display_data"
    }
   ],
   "source": [
    "i = 12\n",
    "plt.figure(figsize=(6,3))\n",
    "plt.subplot(1,2,1)\n",
    "plot_image(i, predictions, test_labels, test_images)\n",
    "plt.subplot(1,2,2)\n",
    "plot_value_array(i, predictions, test_labels)\n",
    "plt.show()"
   ]
  },
  {
   "cell_type": "code",
   "execution_count": 69,
   "metadata": {
    "colab": {
     "base_uri": "https://localhost:8080/",
     "height": 592
    },
    "colab_type": "code",
    "executionInfo": {
     "elapsed": 2341,
     "status": "ok",
     "timestamp": 1565879178809,
     "user": {
      "displayName": "Alice Cheng",
      "photoUrl": "https://lh3.googleusercontent.com/-sTHw_Kd8zkQ/AAAAAAAAAAI/AAAAAAAANd8/ME6yy6h3DLM/s64/photo.jpg",
      "userId": "05280212990421177564"
     },
     "user_tz": -60
    },
    "id": "LCrqIt23qI7U",
    "outputId": "c218834e-a9d6-41fb-ef49-d9e91cb61332"
   },
   "outputs": [
    {
     "data": {
      "image/png": "[encoded data removed]",
      "text/plain": [
       "<Figure size 864x720 with 30 Axes>"
      ]
     },
     "metadata": {
      "tags": []
     },
     "output_type": "display_data"
    }
   ],
   "source": [
    "num_rows = 5\n",
    "num_cols = 3\n",
    "num_images = num_rows*num_cols\n",
    "plt.figure(figsize=(2*2*num_cols, 2*num_rows))\n",
    "for i in range(num_images):\n",
    "  plt.subplot(num_rows, 2*num_cols, 2*i+1)\n",
    "  plot_image(i, predictions, test_labels, test_images)\n",
    "  plt.subplot(num_rows, 2*num_cols, 2*i+2)\n",
    "  plot_value_array(i, predictions, test_labels)\n",
    "plt.show()"
   ]
  },
  {
   "cell_type": "code",
   "execution_count": 71,
   "metadata": {
    "colab": {
     "base_uri": "https://localhost:8080/",
     "height": 34
    },
    "colab_type": "code",
    "executionInfo": {
     "elapsed": 421,
     "status": "ok",
     "timestamp": 1565879296352,
     "user": {
      "displayName": "Alice Cheng",
      "photoUrl": "https://lh3.googleusercontent.com/-sTHw_Kd8zkQ/AAAAAAAAAAI/AAAAAAAANd8/ME6yy6h3DLM/s64/photo.jpg",
      "userId": "05280212990421177564"
     },
     "user_tz": -60
    },
    "id": "SrdHhO-PrAzP",
    "outputId": "c00f7df8-7d4e-4ea9-81d3-96bf6aab6e3b"
   },
   "outputs": [
    {
     "name": "stdout",
     "output_type": "stream",
     "text": [
      "(28, 28)\n"
     ]
    }
   ],
   "source": [
    "img = test_images[0]\n",
    "\n",
    "print(img.shape)"
   ]
  },
  {
   "cell_type": "code",
   "execution_count": 72,
   "metadata": {
    "colab": {
     "base_uri": "https://localhost:8080/",
     "height": 34
    },
    "colab_type": "code",
    "executionInfo": {
     "elapsed": 934,
     "status": "ok",
     "timestamp": 1565879440652,
     "user": {
      "displayName": "Alice Cheng",
      "photoUrl": "https://lh3.googleusercontent.com/-sTHw_Kd8zkQ/AAAAAAAAAAI/AAAAAAAANd8/ME6yy6h3DLM/s64/photo.jpg",
      "userId": "05280212990421177564"
     },
     "user_tz": -60
    },
    "id": "cazRP8Q-rd9t",
    "outputId": "9ff33d42-f7d9-4a7f-8ecb-ae67d526f837"
   },
   "outputs": [
    {
     "name": "stdout",
     "output_type": "stream",
     "text": [
      "(1, 28, 28)\n"
     ]
    }
   ],
   "source": [
    "img = (np.expand_dims(img,0))\n",
    "\n",
    "print(img.shape)"
   ]
  },
  {
   "cell_type": "code",
   "execution_count": 73,
   "metadata": {
    "colab": {
     "base_uri": "https://localhost:8080/",
     "height": 51
    },
    "colab_type": "code",
    "executionInfo": {
     "elapsed": 499,
     "status": "ok",
     "timestamp": 1565879468111,
     "user": {
      "displayName": "Alice Cheng",
      "photoUrl": "https://lh3.googleusercontent.com/-sTHw_Kd8zkQ/AAAAAAAAAAI/AAAAAAAANd8/ME6yy6h3DLM/s64/photo.jpg",
      "userId": "05280212990421177564"
     },
     "user_tz": -60
    },
    "id": "vmGDbq5XsBEr",
    "outputId": "6716c3c8-f2d5-42ff-c9ec-f8b4c2440db7"
   },
   "outputs": [
    {
     "name": "stdout",
     "output_type": "stream",
     "text": [
      "[[1.7277365e-06 7.8949640e-08 8.0836608e-06 8.7858834e-06 2.3066537e-05\n",
      "  1.2037689e-01 3.1571337e-05 3.3945557e-01 5.9136981e-03 5.3418046e-01]]\n"
     ]
    }
   ],
   "source": [
    "predictions_single = model.predict(img)\n",
    "\n",
    "print(predictions_single)"
   ]
  },
  {
   "cell_type": "code",
   "execution_count": 74,
   "metadata": {
    "colab": {
     "base_uri": "https://localhost:8080/",
     "height": 304
    },
    "colab_type": "code",
    "executionInfo": {
     "elapsed": 682,
     "status": "ok",
     "timestamp": 1565879516060,
     "user": {
      "displayName": "Alice Cheng",
      "photoUrl": "https://lh3.googleusercontent.com/-sTHw_Kd8zkQ/AAAAAAAAAAI/AAAAAAAANd8/ME6yy6h3DLM/s64/photo.jpg",
      "userId": "05280212990421177564"
     },
     "user_tz": -60
    },
    "id": "9bdSL7v_sH4S",
    "outputId": "a186b23b-acf9-415d-88e4-51046a813d7a"
   },
   "outputs": [
    {
     "data": {
      "image/png": "[encoded data removed]",
      "text/plain": [
       "<Figure size 432x288 with 1 Axes>"
      ]
     },
     "metadata": {
      "tags": []
     },
     "output_type": "display_data"
    }
   ],
   "source": [
    "plot_value_array(0, predictions_single, test_labels)\n",
    "plt.xticks(range(10), class_names, rotation=45)\n",
    "plt.show()"
   ]
  },
  {
   "cell_type": "code",
   "execution_count": 76,
   "metadata": {
    "colab": {
     "base_uri": "https://localhost:8080/",
     "height": 34
    },
    "colab_type": "code",
    "executionInfo": {
     "elapsed": 507,
     "status": "ok",
     "timestamp": 1565879601882,
     "user": {
      "displayName": "Alice Cheng",
      "photoUrl": "https://lh3.googleusercontent.com/-sTHw_Kd8zkQ/AAAAAAAAAAI/AAAAAAAANd8/ME6yy6h3DLM/s64/photo.jpg",
      "userId": "05280212990421177564"
     },
     "user_tz": -60
    },
    "id": "PrAoVc4-sXg6",
    "outputId": "b2bd4b80-7ff6-408e-ae0a-19bf1d0d282c"
   },
   "outputs": [
    {
     "name": "stdout",
     "output_type": "stream",
     "text": [
      "9\n"
     ]
    }
   ],
   "source": [
    "prediction_result = np.argmax(predictions_single[0])\n",
    "\n",
    "print(prediction_result)"
   ]
  }
 ],
 "metadata": {
  "colab": {
   "collapsed_sections": [],
   "name": "tutorial_clothes_dataset.ipynb",
   "provenance": [],
   "version": "0.3.2"
  },
  "kernelspec": {
   "display_name": "Python 3",
   "language": "python",
   "name": "python3"
  },
  "language_info": {
   "codemirror_mode": {
    "name": "ipython",
    "version": 3
   },
   "file_extension": ".py",
   "mimetype": "text/x-python",
   "name": "python",
   "nbconvert_exporter": "python",
   "pygments_lexer": "ipython3",
   "version": "3.6.7"
  }
 },
 "nbformat": 4,
 "nbformat_minor": 1
}
