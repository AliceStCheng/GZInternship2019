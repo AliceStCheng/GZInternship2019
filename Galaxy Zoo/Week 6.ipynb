{
 "cells": [
  {
   "cell_type": "markdown",
   "metadata": {},
   "source": [
    "<h1>Week 6</h1>\n",
    "\n",
    "First thing: I swear I current breathe ROC curves right now. At the start of the week my ROC curve was not working, even though I spent two weeks on it.\n",
    "    Over the weekend, it became the first thing I thought about before I fully woke up.\n",
    "    \n",
    "So something had to be done.\n",
    "\n",
    "Forturnately, it wasn\\'t an issue with the neural net itself, but with intricacies with Pandas, so I asked Brooke for help. Delivered, was one of the most helpful piece of code snippet I had in weeks.\n",
    "\n",
    "After a bit of debugging (mainly changing the placement of a variable name), the code worked really well and et voila! We have a ROC curve, and a precision recall curve as well as an AUC for that matter.\n",
    "\n",
    "As the code worked in Jupyter notebook, naturally, I tried to implement this in my python. It didn't work the first round, but I found that it ran for Python 3 so hopefully, all is well. \n",
    "\n",
    "Finally, report time!\n",
    "\n",
    "<i>Oh, future self: don't forget to back up!!! </i>\n",
    "\n",
    "PS, the moving-to-Python step did not work, so for now, sticking to Jupyter Notebook it is!! <i>(It's saved under 'Desktop.Alice/projects/brookes_code.ipynb')</i>"
   ]
  }
 ],
 "metadata": {
  "kernelspec": {
   "display_name": "Python 3",
   "language": "python",
   "name": "python3"
  },
  "language_info": {
   "codemirror_mode": {
    "name": "ipython",
    "version": 3
   },
   "file_extension": ".py",
   "mimetype": "text/x-python",
   "name": "python",
   "nbconvert_exporter": "python",
   "pygments_lexer": "ipython3",
   "version": "3.6.7"
  }
 },
 "nbformat": 4,
 "nbformat_minor": 2
}
