{
 "cells": [
  {
   "cell_type": "markdown",
   "metadata": {},
   "source": [
    "For the following, please don't do if list[i] == list[i], the order of both lists are completely different, hence the if any() statement is used. This file is no longer used as the terminal command, \n",
    "\n",
    "awk -F \",\" '{print \"mv ./\"$1\".jpg\" \" ../extended_sources\"}' /Users/lancastro/Desktop/Alice/projects/exd_src.csv | sh \n",
    "\n",
    "does the job better, and to print the 1st 5 lines of the terminal command this will give, just replace 'sh' with 'head'. The '$1' substitutes the name of the file without the extention, thus '.jpg' is required. If you already have the/want a different extention, then remove \".jpg'. the print \"\" prints the command into the terminal, and the thrid path without the quotation marks is the path to your .csv file."
   ]
  },
  {
   "cell_type": "code",
   "execution_count": null,
   "metadata": {},
   "outputs": [],
   "source": [
    "import os, shutil\n",
    "import pandas as pd\n",
    "\n",
    "\n",
    "# folder you want to move from\n",
    "source = '/Users/lancastro/Desktop/Alice/gz_candels_subjects'\n",
    "# in this case, dest 1 is stars, dest 2 is extended sources, where dest is destination.\n",
    "dest1 = '/Users/lancastro/Desktop/Alice/bright_stars'\n",
    "dest2 = '/Users/lancastro/Desktop/Alice/extended_sources'\n",
    "csv_file = '/Users/lancastro/Desktop/Alice/projects/bright_star_list.csv'\n",
    "\n",
    "\n",
    "def list_files(f):\n",
    "    #location of the list of images\n",
    "    imgs_in = pd.read_csv(f)\n",
    "    #making a list of filenames from the source file with a for loop\n",
    "    hubble_filename = ['%s%s.jpg' % ('', q) for q in imgs_in['hubble_id_img']]\n",
    "    #hubble_filename = [imgs_in]\n",
    "    return(hubble_filename)\n",
    "\n",
    "#print(list_files(csv_file))\n",
    "\n",
    "def move_files(f):\n",
    "\n",
    "    img_list = list_files(f)\n",
    "    files = os.listdir(source)\n",
    "\n",
    "    if any(elem in list_files(f) for elem in os.walk(source)):\n",
    "        print('yay! =D')\n",
    "    else:\n",
    "        print(type(img_list))\n",
    "\n",
    "move_files(csv_file)\n",
    "#print(os.listdir(source))\n"
   ]
  }
 ],
 "metadata": {
  "kernelspec": {
   "display_name": "Python 3",
   "language": "python",
   "name": "python3"
  },
  "language_info": {
   "codemirror_mode": {
    "name": "ipython",
    "version": 3
   },
   "file_extension": ".py",
   "mimetype": "text/x-python",
   "name": "python",
   "nbconvert_exporter": "python",
   "pygments_lexer": "ipython3",
   "version": "3.6.7"
  }
 },
 "nbformat": 4,
 "nbformat_minor": 2
}
