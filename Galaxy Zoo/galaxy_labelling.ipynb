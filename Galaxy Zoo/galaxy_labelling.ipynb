{
 "cells": [
  {
   "cell_type": "markdown",
   "metadata": {},
   "source": [
    "#Week 2 "
   ]
  },
  {
   "cell_type": "code",
   "execution_count": 7,
   "metadata": {},
   "outputs": [],
   "source": [
    "\n",
    "import pandas as pd, numpy as np\n",
    "\n",
    "i_none   = -1\n",
    "i_star   = 0\n",
    "i_galaxy = 1\n",
    "\n",
    "def apply_label(row):\n",
    "    this_object = row[1]\n",
    "    if this_object['stargalaxy_star']:\n",
    "        return i_star\n",
    "    elif this_object['stargalaxy_galaxy']:\n",
    "        return i_galaxy\n",
    "    else:\n",
    "        return i_none\n",
    "    \n",
    "\n",
    "mydata = pd.read_csv('candels_datafile.csv')\n",
    "# not guaranteed to be the actual selections you need\n",
    "mydata['stargalaxy_star']   = (mydata['CLASS_STAR'] >= 0.8)\n",
    "mydata['stargalaxy_galaxy'] = (mydata['CLASS_STAR'] <= 0.03) & (mydata['H_MAG_AUTO'] < 25.0) & (mydata['t00_smooth_or_featured_a2_artifact_weighted_frac'] <= 0.65)\n",
    "mydata['stargalaxy_label'] = [apply_label(q) for q in mydata.iterrows()]\n",
    "\n",
    "is_labelled_data   = (mydata['stargalaxy_label'] >= 0)\n",
    "labelled_data_only = mydata[is_labelled_data].copy()"
   ]
  },
  {
   "cell_type": "markdown",
   "metadata": {},
   "source": [
    "Code ran, but I don't know if it has worked, from a quick search within the document, I'm unsure that it has. I searched '-1,' as it's a csv file, and -1 is unlikely to come up on its own, but there are many galaxies that would have been labelled as -1 for being neither a galaxy or a star."
   ]
  }
 ],
 "metadata": {
  "kernelspec": {
   "display_name": "Python 3",
   "language": "python",
   "name": "python3"
  },
  "language_info": {
   "codemirror_mode": {
    "name": "ipython",
    "version": 3
   },
   "file_extension": ".py",
   "mimetype": "text/x-python",
   "name": "python",
   "nbconvert_exporter": "python",
   "pygments_lexer": "ipython3",
   "version": "3.6.7"
  }
 },
 "nbformat": 4,
 "nbformat_minor": 2
}
